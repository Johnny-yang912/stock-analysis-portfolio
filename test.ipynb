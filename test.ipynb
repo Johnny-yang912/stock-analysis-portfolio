{
 "cells": [
  {
   "cell_type": "code",
   "execution_count": 1,
   "id": "fb3a65a2",
   "metadata": {},
   "outputs": [
    {
     "name": "stdout",
     "output_type": "stream",
     "text": [
      "weights:\n",
      "SPY    0.461724\n",
      "AGG    0.538276\n",
      "dtype: float64\n",
      "stats:\n",
      "{'ann_return': 1.1933768558852007, 'ann_vol': 0.06506362543185061, 'sharpe': 18.341080218118346, 'max_drawdown': -0.003992169696443448, 'cvar_95': 0.003992169696443571}\n"
     ]
    }
   ],
   "source": [
    "import pandas as pd\n",
    "from utils_stock import quick_max_sharpe_from_csv\n",
    "\n",
    "# 假資料（兩檔資產）\n",
    "df = pd.DataFrame({\n",
    "    \"Date\": pd.date_range(\"2022-01-01\", periods=8, freq=\"D\"),\n",
    "    \"SPY\":  [100,101,102,101,103,104,105,107],\n",
    "    \"AGG\":  [100,100.5,100.7,100.8,100.4,100.2,100.1,100.3],\n",
    "})\n",
    "df.to_csv(\"toy_prices.csv\", index=False)\n",
    "\n",
    "res = quick_max_sharpe_from_csv(\"toy_prices.csv\", rf_annual=0.01)\n",
    "print(\"weights:\")\n",
    "print(res[\"weights\"])\n",
    "print(\"stats:\")\n",
    "print(res[\"stats\"])\n"
   ]
  },
  {
   "cell_type": "code",
   "execution_count": null,
   "id": "a99ae655",
   "metadata": {},
   "outputs": [],
   "source": []
  }
 ],
 "metadata": {
  "kernelspec": {
   "display_name": "base",
   "language": "python",
   "name": "python3"
  },
  "language_info": {
   "codemirror_mode": {
    "name": "ipython",
    "version": 3
   },
   "file_extension": ".py",
   "mimetype": "text/x-python",
   "name": "python",
   "nbconvert_exporter": "python",
   "pygments_lexer": "ipython3",
   "version": "3.13.5"
  }
 },
 "nbformat": 4,
 "nbformat_minor": 5
}
